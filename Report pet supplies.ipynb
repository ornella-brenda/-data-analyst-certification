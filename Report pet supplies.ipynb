{
 "cells": [
  {
   "cell_type": "markdown",
   "id": "9d76d7e6",
   "metadata": {},
   "source": [
    "# Background"
   ]
  },
  {
   "cell_type": "markdown",
   "id": "a54b3772",
   "metadata": {},
   "source": [
    "PetMind is a retailer of products for pets. They are based in the United States.\n",
    "\n",
    "PetMind sells products that are a mix of luxury items and everyday items. Luxury items include\n",
    "toys. Everyday items include food.\n",
    "\n",
    "The company wants to increase sales by selling more everyday products repeatedly.\n",
    "They have been testing this approach for the last year.\n",
    "\n",
    "They now want a report on how repeat purchases impact sales."
   ]
  },
  {
   "cell_type": "markdown",
   "id": "f47e9316",
   "metadata": {},
   "source": [
    "# Data and its characteristics"
   ]
  },
  {
   "cell_type": "markdown",
   "id": "75214e5d",
   "metadata": {},
   "source": [
    "the dataset is given in the directory files.\n",
    "The dataset contains the sales records in the stores last year.\n",
    "\n",
    "_here are the data and their criteria._\n",
    "\n",
    "- product_id (Nominal): The unique identifier of the product. Missing values are not possible due to the database structure.\n",
    "- category (Nominal): The category of the product, one of 6 values (Housing,Food, Toys, Equipment, Medicine, Accessory). Missing values should be replaced with “Unknown”.\n",
    "- animal (Nominal): The type of animal the product is for. One of Dog, Cat,Fish, Bird. Missing values should be replaced with “Unknown”.\n",
    "- size (Ordinal): The size of animal the product is for. Small, Medium,Large. Missing values should be replaced with “Unknown”.\n",
    "- price (Continuous): The price the product is sold at. Can be any positivevalue, round to 2 decimal places. Missing values should be replaced with the overall median price.\n",
    "- sales (Continuous): The value of all sales of the product in the last year. This can be any positive value, rounded to 2 decimal places. Missing values should be replaced with the overall median sales.\n",
    "- rating (Discrete): Customer rating of the product from 1 to 10. Missing values should be replaced with 0.\n",
    "- repeat_purchase (Nominal): Whether customers repeatedly buy the product (1) or not (0); Missing values should be removed.\n",
    "\n",
    "\n"
   ]
  },
  {
   "cell_type": "markdown",
   "id": "3c82ba33",
   "metadata": {},
   "source": [
    "## Data exploration"
   ]
  },
  {
   "cell_type": "code",
   "execution_count": 1,
   "id": "2a2e87af",
   "metadata": {},
   "outputs": [],
   "source": [
    "import pandas as pd \n",
    "import numpy as np\n"
   ]
  },
  {
   "cell_type": "code",
   "execution_count": 2,
   "id": "1b6be488",
   "metadata": {},
   "outputs": [
    {
     "data": {
      "text/html": [
       "<div>\n",
       "<style scoped>\n",
       "    .dataframe tbody tr th:only-of-type {\n",
       "        vertical-align: middle;\n",
       "    }\n",
       "\n",
       "    .dataframe tbody tr th {\n",
       "        vertical-align: top;\n",
       "    }\n",
       "\n",
       "    .dataframe thead th {\n",
       "        text-align: right;\n",
       "    }\n",
       "</style>\n",
       "<table border=\"1\" class=\"dataframe\">\n",
       "  <thead>\n",
       "    <tr style=\"text-align: right;\">\n",
       "      <th></th>\n",
       "      <th>product_id</th>\n",
       "      <th>category</th>\n",
       "      <th>animal</th>\n",
       "      <th>size</th>\n",
       "      <th>price</th>\n",
       "      <th>sales</th>\n",
       "      <th>rating</th>\n",
       "      <th>repeat_purchase</th>\n",
       "    </tr>\n",
       "  </thead>\n",
       "  <tbody>\n",
       "    <tr>\n",
       "      <th>0</th>\n",
       "      <td>1</td>\n",
       "      <td>Food</td>\n",
       "      <td>Bird</td>\n",
       "      <td>large</td>\n",
       "      <td>51.1</td>\n",
       "      <td>1860.62</td>\n",
       "      <td>7.0</td>\n",
       "      <td>1</td>\n",
       "    </tr>\n",
       "    <tr>\n",
       "      <th>1</th>\n",
       "      <td>2</td>\n",
       "      <td>Housing</td>\n",
       "      <td>Bird</td>\n",
       "      <td>MEDIUM</td>\n",
       "      <td>35.98</td>\n",
       "      <td>963.60</td>\n",
       "      <td>6.0</td>\n",
       "      <td>0</td>\n",
       "    </tr>\n",
       "    <tr>\n",
       "      <th>2</th>\n",
       "      <td>3</td>\n",
       "      <td>Food</td>\n",
       "      <td>Dog</td>\n",
       "      <td>medium</td>\n",
       "      <td>31.23</td>\n",
       "      <td>898.30</td>\n",
       "      <td>5.0</td>\n",
       "      <td>1</td>\n",
       "    </tr>\n",
       "    <tr>\n",
       "      <th>3</th>\n",
       "      <td>4</td>\n",
       "      <td>Medicine</td>\n",
       "      <td>Cat</td>\n",
       "      <td>small</td>\n",
       "      <td>24.95</td>\n",
       "      <td>982.15</td>\n",
       "      <td>6.0</td>\n",
       "      <td>1</td>\n",
       "    </tr>\n",
       "    <tr>\n",
       "      <th>4</th>\n",
       "      <td>5</td>\n",
       "      <td>Housing</td>\n",
       "      <td>Cat</td>\n",
       "      <td>Small</td>\n",
       "      <td>26.18</td>\n",
       "      <td>832.63</td>\n",
       "      <td>7.0</td>\n",
       "      <td>1</td>\n",
       "    </tr>\n",
       "    <tr>\n",
       "      <th>...</th>\n",
       "      <td>...</td>\n",
       "      <td>...</td>\n",
       "      <td>...</td>\n",
       "      <td>...</td>\n",
       "      <td>...</td>\n",
       "      <td>...</td>\n",
       "      <td>...</td>\n",
       "      <td>...</td>\n",
       "    </tr>\n",
       "    <tr>\n",
       "      <th>1495</th>\n",
       "      <td>1496</td>\n",
       "      <td>Food</td>\n",
       "      <td>Bird</td>\n",
       "      <td>medium</td>\n",
       "      <td>40.91</td>\n",
       "      <td>1203.36</td>\n",
       "      <td>5.0</td>\n",
       "      <td>0</td>\n",
       "    </tr>\n",
       "    <tr>\n",
       "      <th>1496</th>\n",
       "      <td>1497</td>\n",
       "      <td>Equipment</td>\n",
       "      <td>Dog</td>\n",
       "      <td>small</td>\n",
       "      <td>32.89</td>\n",
       "      <td>1099.97</td>\n",
       "      <td>5.0</td>\n",
       "      <td>0</td>\n",
       "    </tr>\n",
       "    <tr>\n",
       "      <th>1497</th>\n",
       "      <td>1498</td>\n",
       "      <td>Food</td>\n",
       "      <td>Fish</td>\n",
       "      <td>Small</td>\n",
       "      <td>25.79</td>\n",
       "      <td>724.02</td>\n",
       "      <td>3.0</td>\n",
       "      <td>0</td>\n",
       "    </tr>\n",
       "    <tr>\n",
       "      <th>1498</th>\n",
       "      <td>1499</td>\n",
       "      <td>Medicine</td>\n",
       "      <td>Fish</td>\n",
       "      <td>small</td>\n",
       "      <td>19.94</td>\n",
       "      <td>658.66</td>\n",
       "      <td>5.0</td>\n",
       "      <td>1</td>\n",
       "    </tr>\n",
       "    <tr>\n",
       "      <th>1499</th>\n",
       "      <td>1500</td>\n",
       "      <td>Food</td>\n",
       "      <td>Cat</td>\n",
       "      <td>Medium</td>\n",
       "      <td>25.95</td>\n",
       "      <td>826.08</td>\n",
       "      <td>4.0</td>\n",
       "      <td>1</td>\n",
       "    </tr>\n",
       "  </tbody>\n",
       "</table>\n",
       "<p>1500 rows × 8 columns</p>\n",
       "</div>"
      ],
      "text/plain": [
       "      product_id   category animal    size  price    sales  rating  \\\n",
       "0              1       Food   Bird   large   51.1  1860.62     7.0   \n",
       "1              2    Housing   Bird  MEDIUM  35.98   963.60     6.0   \n",
       "2              3       Food    Dog  medium  31.23   898.30     5.0   \n",
       "3              4   Medicine    Cat   small  24.95   982.15     6.0   \n",
       "4              5    Housing    Cat   Small  26.18   832.63     7.0   \n",
       "...          ...        ...    ...     ...    ...      ...     ...   \n",
       "1495        1496       Food   Bird  medium  40.91  1203.36     5.0   \n",
       "1496        1497  Equipment    Dog   small  32.89  1099.97     5.0   \n",
       "1497        1498       Food   Fish   Small  25.79   724.02     3.0   \n",
       "1498        1499   Medicine   Fish   small  19.94   658.66     5.0   \n",
       "1499        1500       Food    Cat  Medium  25.95   826.08     4.0   \n",
       "\n",
       "      repeat_purchase  \n",
       "0                   1  \n",
       "1                   0  \n",
       "2                   1  \n",
       "3                   1  \n",
       "4                   1  \n",
       "...               ...  \n",
       "1495                0  \n",
       "1496                0  \n",
       "1497                0  \n",
       "1498                1  \n",
       "1499                1  \n",
       "\n",
       "[1500 rows x 8 columns]"
      ]
     },
     "execution_count": 2,
     "metadata": {},
     "output_type": "execute_result"
    }
   ],
   "source": [
    "data = pd.read_csv(\"pet_supplies_2212.csv\") #load dataset\n",
    "data"
   ]
  },
  {
   "cell_type": "code",
   "execution_count": 4,
   "id": "25f1af0f",
   "metadata": {},
   "outputs": [
    {
     "name": "stdout",
     "output_type": "stream",
     "text": [
      "<class 'pandas.core.frame.DataFrame'>\n",
      "RangeIndex: 1500 entries, 0 to 1499\n",
      "Data columns (total 8 columns):\n",
      " #   Column           Non-Null Count  Dtype  \n",
      "---  ------           --------------  -----  \n",
      " 0   product_id       1500 non-null   int64  \n",
      " 1   category         1500 non-null   object \n",
      " 2   animal           1500 non-null   object \n",
      " 3   size             1500 non-null   object \n",
      " 4   price            1500 non-null   object \n",
      " 5   sales            1500 non-null   float64\n",
      " 6   rating           1350 non-null   float64\n",
      " 7   repeat_purchase  1500 non-null   int64  \n",
      "dtypes: float64(2), int64(2), object(4)\n",
      "memory usage: 93.9+ KB\n"
     ]
    }
   ],
   "source": [
    "data.info() #data structure"
   ]
  },
  {
   "cell_type": "code",
   "execution_count": 4,
   "id": "8bc9355b",
   "metadata": {},
   "outputs": [
    {
     "data": {
      "text/plain": [
       "product_id           0\n",
       "category             0\n",
       "animal               0\n",
       "size                 0\n",
       "price                0\n",
       "sales                0\n",
       "rating             150\n",
       "repeat_purchase      0\n",
       "dtype: int64"
      ]
     },
     "execution_count": 4,
     "metadata": {},
     "output_type": "execute_result"
    }
   ],
   "source": [
    "data.isna().sum() #missing values for every column"
   ]
  },
  {
   "cell_type": "markdown",
   "id": "a069482f",
   "metadata": {},
   "source": [
    "\n",
    "State whether the values match the description given in the table above for every column in the data:\n",
    "\n",
    "- Product_id: the values don't match to the description because it's suppoded to be nominal(categorical) when it's interger\n",
    "- category: this column matches with the description\n",
    "- animal: this column matches with the description\n",
    "- size: this column matches with the description\n",
    "- price: this column doesn't match with the description because values are supposed to be continuous when it's categorical\n",
    "- sales:this column matches with the description\n",
    "- rating:this column doesn't match with the description because values are supposed to be integers when it's float\n",
    "- repeat_purchase:this column doesn't match with the description because values are supposed to be categorical when it's integer"
   ]
  },
  {
   "cell_type": "markdown",
   "id": "557684f2",
   "metadata": {},
   "source": [
    "## Data cleaning"
   ]
  },
  {
   "cell_type": "code",
   "execution_count": 6,
   "id": "f701ed0e",
   "metadata": {},
   "outputs": [],
   "source": [
    "#replace \"unlisted\" by NA in price column\n",
    "data.price.replace('unlisted',np.nan,inplace=True)"
   ]
  },
  {
   "cell_type": "code",
   "execution_count": 7,
   "id": "1d6ddab9",
   "metadata": {},
   "outputs": [],
   "source": [
    "#convert price values to continuous values anf replace NA by the median\n",
    "data['price'] = data['price'].astype('float64').fillna(round(data.price.median(),2))"
   ]
  },
  {
   "cell_type": "code",
   "execution_count": 8,
   "id": "69bdb36d",
   "metadata": {},
   "outputs": [],
   "source": [
    "#convert rating values to discrete and fill NA with 0\n",
    "data['rating']=data['rating'].fillna(0).astype(int)"
   ]
  },
  {
   "cell_type": "code",
   "execution_count": 9,
   "id": "0dead5f1",
   "metadata": {},
   "outputs": [],
   "source": [
    "#convert product_id,repeat_purchase,category, animal, size values to categorical\n",
    "data=data.astype({\"product_id\":'category',\"repeat_purchase\":'category',\"category\":'category',\"animal\":'category',\"size\":'category'})"
   ]
  },
  {
   "cell_type": "markdown",
   "id": "068ff65d",
   "metadata": {},
   "source": [
    "## Data validation"
   ]
  },
  {
   "cell_type": "code",
   "execution_count": 10,
   "id": "614b62c2",
   "metadata": {},
   "outputs": [
    {
     "data": {
      "text/html": [
       "<div>\n",
       "<style scoped>\n",
       "    .dataframe tbody tr th:only-of-type {\n",
       "        vertical-align: middle;\n",
       "    }\n",
       "\n",
       "    .dataframe tbody tr th {\n",
       "        vertical-align: top;\n",
       "    }\n",
       "\n",
       "    .dataframe thead th {\n",
       "        text-align: right;\n",
       "    }\n",
       "</style>\n",
       "<table border=\"1\" class=\"dataframe\">\n",
       "  <thead>\n",
       "    <tr style=\"text-align: right;\">\n",
       "      <th></th>\n",
       "      <th>product_id</th>\n",
       "      <th>category</th>\n",
       "      <th>animal</th>\n",
       "      <th>size</th>\n",
       "      <th>price</th>\n",
       "      <th>sales</th>\n",
       "      <th>rating</th>\n",
       "      <th>repeat_purchase</th>\n",
       "    </tr>\n",
       "  </thead>\n",
       "  <tbody>\n",
       "    <tr>\n",
       "      <th>0</th>\n",
       "      <td>1</td>\n",
       "      <td>Food</td>\n",
       "      <td>Bird</td>\n",
       "      <td>large</td>\n",
       "      <td>51.10</td>\n",
       "      <td>1860.62</td>\n",
       "      <td>7</td>\n",
       "      <td>1</td>\n",
       "    </tr>\n",
       "    <tr>\n",
       "      <th>1</th>\n",
       "      <td>2</td>\n",
       "      <td>Housing</td>\n",
       "      <td>Bird</td>\n",
       "      <td>MEDIUM</td>\n",
       "      <td>35.98</td>\n",
       "      <td>963.60</td>\n",
       "      <td>6</td>\n",
       "      <td>0</td>\n",
       "    </tr>\n",
       "    <tr>\n",
       "      <th>2</th>\n",
       "      <td>3</td>\n",
       "      <td>Food</td>\n",
       "      <td>Dog</td>\n",
       "      <td>medium</td>\n",
       "      <td>31.23</td>\n",
       "      <td>898.30</td>\n",
       "      <td>5</td>\n",
       "      <td>1</td>\n",
       "    </tr>\n",
       "    <tr>\n",
       "      <th>3</th>\n",
       "      <td>4</td>\n",
       "      <td>Medicine</td>\n",
       "      <td>Cat</td>\n",
       "      <td>small</td>\n",
       "      <td>24.95</td>\n",
       "      <td>982.15</td>\n",
       "      <td>6</td>\n",
       "      <td>1</td>\n",
       "    </tr>\n",
       "    <tr>\n",
       "      <th>4</th>\n",
       "      <td>5</td>\n",
       "      <td>Housing</td>\n",
       "      <td>Cat</td>\n",
       "      <td>Small</td>\n",
       "      <td>26.18</td>\n",
       "      <td>832.63</td>\n",
       "      <td>7</td>\n",
       "      <td>1</td>\n",
       "    </tr>\n",
       "    <tr>\n",
       "      <th>...</th>\n",
       "      <td>...</td>\n",
       "      <td>...</td>\n",
       "      <td>...</td>\n",
       "      <td>...</td>\n",
       "      <td>...</td>\n",
       "      <td>...</td>\n",
       "      <td>...</td>\n",
       "      <td>...</td>\n",
       "    </tr>\n",
       "    <tr>\n",
       "      <th>1495</th>\n",
       "      <td>1496</td>\n",
       "      <td>Food</td>\n",
       "      <td>Bird</td>\n",
       "      <td>medium</td>\n",
       "      <td>40.91</td>\n",
       "      <td>1203.36</td>\n",
       "      <td>5</td>\n",
       "      <td>0</td>\n",
       "    </tr>\n",
       "    <tr>\n",
       "      <th>1496</th>\n",
       "      <td>1497</td>\n",
       "      <td>Equipment</td>\n",
       "      <td>Dog</td>\n",
       "      <td>small</td>\n",
       "      <td>32.89</td>\n",
       "      <td>1099.97</td>\n",
       "      <td>5</td>\n",
       "      <td>0</td>\n",
       "    </tr>\n",
       "    <tr>\n",
       "      <th>1497</th>\n",
       "      <td>1498</td>\n",
       "      <td>Food</td>\n",
       "      <td>Fish</td>\n",
       "      <td>Small</td>\n",
       "      <td>25.79</td>\n",
       "      <td>724.02</td>\n",
       "      <td>3</td>\n",
       "      <td>0</td>\n",
       "    </tr>\n",
       "    <tr>\n",
       "      <th>1498</th>\n",
       "      <td>1499</td>\n",
       "      <td>Medicine</td>\n",
       "      <td>Fish</td>\n",
       "      <td>small</td>\n",
       "      <td>19.94</td>\n",
       "      <td>658.66</td>\n",
       "      <td>5</td>\n",
       "      <td>1</td>\n",
       "    </tr>\n",
       "    <tr>\n",
       "      <th>1499</th>\n",
       "      <td>1500</td>\n",
       "      <td>Food</td>\n",
       "      <td>Cat</td>\n",
       "      <td>Medium</td>\n",
       "      <td>25.95</td>\n",
       "      <td>826.08</td>\n",
       "      <td>4</td>\n",
       "      <td>1</td>\n",
       "    </tr>\n",
       "  </tbody>\n",
       "</table>\n",
       "<p>1500 rows × 8 columns</p>\n",
       "</div>"
      ],
      "text/plain": [
       "     product_id   category animal    size  price    sales  rating  \\\n",
       "0             1       Food   Bird   large  51.10  1860.62       7   \n",
       "1             2    Housing   Bird  MEDIUM  35.98   963.60       6   \n",
       "2             3       Food    Dog  medium  31.23   898.30       5   \n",
       "3             4   Medicine    Cat   small  24.95   982.15       6   \n",
       "4             5    Housing    Cat   Small  26.18   832.63       7   \n",
       "...         ...        ...    ...     ...    ...      ...     ...   \n",
       "1495       1496       Food   Bird  medium  40.91  1203.36       5   \n",
       "1496       1497  Equipment    Dog   small  32.89  1099.97       5   \n",
       "1497       1498       Food   Fish   Small  25.79   724.02       3   \n",
       "1498       1499   Medicine   Fish   small  19.94   658.66       5   \n",
       "1499       1500       Food    Cat  Medium  25.95   826.08       4   \n",
       "\n",
       "     repeat_purchase  \n",
       "0                  1  \n",
       "1                  0  \n",
       "2                  1  \n",
       "3                  1  \n",
       "4                  1  \n",
       "...              ...  \n",
       "1495               0  \n",
       "1496               0  \n",
       "1497               0  \n",
       "1498               1  \n",
       "1499               1  \n",
       "\n",
       "[1500 rows x 8 columns]"
      ]
     },
     "execution_count": 10,
     "metadata": {},
     "output_type": "execute_result"
    }
   ],
   "source": [
    "#check dataset to see if the changes have been done\n",
    "data"
   ]
  },
  {
   "cell_type": "code",
   "execution_count": 11,
   "id": "1fe361f6",
   "metadata": {},
   "outputs": [
    {
     "name": "stdout",
     "output_type": "stream",
     "text": [
      "<class 'pandas.core.frame.DataFrame'>\n",
      "RangeIndex: 1500 entries, 0 to 1499\n",
      "Data columns (total 8 columns):\n",
      " #   Column           Non-Null Count  Dtype   \n",
      "---  ------           --------------  -----   \n",
      " 0   product_id       1500 non-null   category\n",
      " 1   category         1500 non-null   category\n",
      " 2   animal           1500 non-null   category\n",
      " 3   size             1500 non-null   category\n",
      " 4   price            1500 non-null   float64 \n",
      " 5   sales            1500 non-null   float64 \n",
      " 6   rating           1500 non-null   int32   \n",
      " 7   repeat_purchase  1500 non-null   category\n",
      "dtypes: category(5), float64(2), int32(1)\n",
      "memory usage: 83.2 KB\n"
     ]
    }
   ],
   "source": [
    "data.info() #checking again"
   ]
  },
  {
   "cell_type": "code",
   "execution_count": 12,
   "id": "01d0bc6b",
   "metadata": {},
   "outputs": [
    {
     "data": {
      "text/plain": [
       "product_id         0\n",
       "category           0\n",
       "animal             0\n",
       "size               0\n",
       "price              0\n",
       "sales              0\n",
       "rating             0\n",
       "repeat_purchase    0\n",
       "dtype: int64"
      ]
     },
     "execution_count": 12,
     "metadata": {},
     "output_type": "execute_result"
    }
   ],
   "source": [
    "data.isna().sum() #checking again"
   ]
  },
  {
   "cell_type": "code",
   "execution_count": 13,
   "id": "6df79966",
   "metadata": {},
   "outputs": [],
   "source": [
    "#export data for visualization\n",
    "data.to_csv('pet_supplies_2212_cleaned.csv')"
   ]
  },
  {
   "cell_type": "markdown",
   "id": "98ecc1fe",
   "metadata": {},
   "source": [
    "## Data visualization and communication\n",
    " I made some visualizations with Tableau because i wanted to use differents tools and i also like the way Tableau displays visualizations"
   ]
  },
  {
   "cell_type": "markdown",
   "id": "72fb3a1f",
   "metadata": {},
   "source": [
    "### How many products are repeat purchases?"
   ]
  },
  {
   "cell_type": "markdown",
   "id": "43a40a6d",
   "metadata": {},
   "source": [
    "![Sheet 1](Sheet%201.png)"
   ]
  },
  {
   "cell_type": "markdown",
   "id": "9b957bfe",
   "metadata": {},
   "source": [
    "_Customers who buy products repeattedly(1) have the most observations(around 906). Then we have customers who repeat purchases(about 594 observations) so observations are not really balanced across categories of the variable repeat purchases. This would suggest that the team should focus on customers who repeat purchases to increase sales as they are more common._"
   ]
  },
  {
   "cell_type": "markdown",
   "id": "5b11e39c",
   "metadata": {},
   "source": [
    "### Distribution of all of the sales."
   ]
  },
  {
   "cell_type": "markdown",
   "id": "4ad7bf8e",
   "metadata": {},
   "source": [
    "![Sheet 2](Sheet%202.png)"
   ]
  },
  {
   "cell_type": "markdown",
   "id": "5d5ec056",
   "metadata": {},
   "source": [
    "_The distribution of all of the sales can be described as a normal distribution._\n",
    "\n",
    "_Here we have a left-skewed distribution because the majority of the values is concentrated near the lower end of the range. The mean of the distribution is shifted to the left, with a smaller proportion of higher values, resulting in a shorter right tail than the left tail. This indicates that the majority of the sales are lower than the average._"
   ]
  },
  {
   "cell_type": "markdown",
   "id": "1cdbedfa",
   "metadata": {},
   "source": [
    "### Relationship between repeat purchases and sales"
   ]
  },
  {
   "cell_type": "markdown",
   "id": "0793969d",
   "metadata": {},
   "source": [
    "_Finally we want to see how the repeat purchase impacts sales._\n",
    "\n",
    "_So far customers who repeat purchases would be ideal for increasing sales but we need to see if this is realistic with a boxplot._"
   ]
  },
  {
   "cell_type": "code",
   "execution_count": 17,
   "id": "aa66846b",
   "metadata": {},
   "outputs": [],
   "source": [
    "import matplotlib.pyplot as plt  #import modules\n",
    "import seaborn as sns"
   ]
  },
  {
   "cell_type": "code",
   "execution_count": 21,
   "id": "b066d63b",
   "metadata": {},
   "outputs": [
    {
     "data": {
      "text/plain": [
       "Text(0.5, 1.0, 'sales by repeat purchase')"
      ]
     },
     "execution_count": 21,
     "metadata": {},
     "output_type": "execute_result"
    },
    {
     "data": {
      "image/png": "[encoded data removed]",
      "text/plain": [
       "<Figure size 640x480 with 1 Axes>"
      ]
     },
     "metadata": {},
     "output_type": "display_data"
    }
   ],
   "source": [
    "sns.boxplot(x=\"repeat_purchase\", y=\"sales\", data=data)\n",
    "plt.title(\"sales by repeat purchase\")"
   ]
  },
  {
   "cell_type": "markdown",
   "id": "5c2764be",
   "metadata": {},
   "source": [
    "_Customers who don't repeat purchase(0) impacted more sales on average and their sales are more spreaded out. Because Customers who repeat purchase(1) have the smaller interquartile range, they have the most consistent results and will be the best for increasing sales but despite that,the majority of sales impacted by them may be lower than sales impacted by customers who don't repeat purchase._\n",
    "\n",
    "_Some possibilities to explain high sales impacted by customers who don't repeat purchase is that they could be new customers, who may have higher spending habits than the existing customers or they tend to be more loyal to the brand and could be more likely to purchase more products at one time._"
   ]
  },
  {
   "cell_type": "markdown",
   "id": "97aeeebd",
   "metadata": {},
   "source": [
    "_Based on all of the above, we would recommend that the company focus on customers who repeat purchase for increasing their sales, but also keeps an open mind to customers who don't repeat purchases to make them buy products repeatedly by offering them loyalty rewards, discounts, and coupons for the next purchase and Making the purchasing process as simple and straightforward as possible._"
   ]
  },
  {
   "cell_type": "code",
   "execution_count": null,
   "id": "d8b74afb",
   "metadata": {},
   "outputs": [],
   "source": []
  }
 ],
 "metadata": {
  "kernelspec": {
   "display_name": "Python 3 (ipykernel)",
   "language": "python",
   "name": "python3"
  },
  "language_info": {
   "codemirror_mode": {
    "name": "ipython",
    "version": 3
   },
   "file_extension": ".py",
   "mimetype": "text/x-python",
   "name": "python",
   "nbconvert_exporter": "python",
   "pygments_lexer": "ipython3",
   "version": "3.9.13"
  }
 },
 "nbformat": 4,
 "nbformat_minor": 5
}
